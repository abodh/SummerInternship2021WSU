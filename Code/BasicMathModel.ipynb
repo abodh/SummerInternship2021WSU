{
 "cells": [
  {
   "cell_type": "code",
   "execution_count": null,
   "metadata": {},
   "outputs": [],
   "source": [
    "import math\r\n",
    "import sys\r\n",
    "type(sys.path)\r\n",
    "# sys.path.append('c:\\\\Users\\\\Garcia-CamargoDiego\\\\AppData\\\\Local\\\\Packages\\\\PythonSoftwareFoundation.Python.3.8_qbz5n2kfra8p0\\\\LocalCache\\\\local-packages\\\\Python38\\\\site-packages\\\\pandas')\r\n",
    "# for path in sys.path:\r\n",
    "#     print(path)\r\n",
    "# import pandas as pd\r\n",
    "# import numpy as np\r\n",
    "# import seaborn as sns\r\n",
    "# import matplotlib.pyplot as plt\r\n"
   ]
  },
  {
   "cell_type": "code",
   "execution_count": 33,
   "metadata": {},
   "outputs": [
    {
     "name": "stdout",
     "output_type": "stream",
     "text": [
      "C:\\Users\\Garcia-CamargoDiego\\AppData\\Local\\Programs\\Python\\Python38-32\n"
     ]
    }
   ],
   "source": [
    "print(sys.prefix)"
   ]
  },
  {
   "cell_type": "code",
   "execution_count": 34,
   "metadata": {},
   "outputs": [
    {
     "name": "stderr",
     "output_type": "stream",
     "text": [
      "'pipenv' is not recognized as an internal or external command,\n",
      "operable program or batch file.\n"
     ]
    }
   ],
   "source": []
  }
 ],
 "metadata": {
  "interpreter": {
   "hash": "cd4dd8c940184b8c61568e9ee58d142539e47c3df59954261cb4ddc978c9606f"
  },
  "kernelspec": {
   "display_name": "Python 3.8.3 32-bit",
   "name": "python3"
  },
  "language_info": {
   "codemirror_mode": {
    "name": "ipython",
    "version": 3
   },
   "file_extension": ".py",
   "mimetype": "text/x-python",
   "name": "python",
   "nbconvert_exporter": "python",
   "pygments_lexer": "ipython3",
   "version": "3.8.3"
  },
  "orig_nbformat": 4
 },
 "nbformat": 4,
 "nbformat_minor": 2
}